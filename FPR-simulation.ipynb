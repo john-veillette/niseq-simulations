{
 "cells": [
  {
   "cell_type": "markdown",
   "id": "28a91a95",
   "metadata": {},
   "source": [
    "# Verifying false-positive rates by simulation\n",
    "\n",
    "This notebook contains simulations to show that the permutation-based approach to group-sequential testing used in this package effectively controls the false-positive rate, even when analyzing the data sequentially (i.e. stopping data collection when the pattern of interest is significant, and continuing otherwise). \n",
    "\n",
    "In these simulations, we'll use functions from the `niseq.max_test` module, which perform permutation _t_-tests with a $t$-max correction for multiple comparisons, to illustrate how `niseq` can control the familywise error rate across multiple looks during data collection. While we don't show simulations for our cluster-based tests here (those take a lot longer to run), note that the same backend functions, `niseq._permutation.generate_permutation_dist` and `niseq._permutation.find_thresholds`, are used under the hood of every statistical test implemented in `niseq`, so the permutation scheme scrutinized here is the exact same as that used in our cluster-level tests.\n",
    "\n",
    "Note that these simulations will only give us approximate results. Feel free to increase `N_SIMULATIONS` to get something closer to the true false-positive rate."
   ]
  },
  {
   "cell_type": "code",
   "execution_count": 1,
   "id": "a27fa087",
   "metadata": {},
   "outputs": [],
   "source": [
    "from mne.parallel import parallel_func\n",
    "from niseq.max_test import (\n",
    "    sequential_permutation_t_test_1samp, \n",
    "    sequential_permutation_test_indep\n",
    ")\n",
    "import numpy as np\n",
    "\n",
    "N_SIMULATIONS = 10000"
   ]
  },
  {
   "cell_type": "markdown",
   "id": "4832032d",
   "metadata": {},
   "source": [
    "On each simulation below, we'll generate null data and pretend we look at it five times throughout the intended course of data collection, and we'll compare the false positive rates attained when we reject the null hypothesis whenever $p \\leq 0.05$ and $p \\leq \\alpha_\\text{adjusted}$ at at least one look time."
   ]
  },
  {
   "cell_type": "code",
   "execution_count": 2,
   "id": "c1374ffe",
   "metadata": {},
   "outputs": [],
   "source": [
    "def one_simulation(seed, \n",
    "                n_tests = 1,\n",
    "                tail = 0, \n",
    "                indep = False,\n",
    "                look_times = np.linspace(100, 500, 5).astype(int)):\n",
    "    \n",
    "    # generate null data \n",
    "    rng = np.random.default_rng(seed)\n",
    "    x = rng.normal(loc = 0, size = (look_times[-1], n_tests))\n",
    "    \n",
    "    # run sequential test\n",
    "    if indep:\n",
    "        conds = rng.choice([0, 1], look_times[-1])\n",
    "        _, p, adj_alpha, _ = sequential_permutation_test_indep(\n",
    "            x, conds, look_times, n_max = look_times[-1], \n",
    "            tail = tail,\n",
    "            seed = seed,\n",
    "            verbose = False\n",
    "        ) \n",
    "    else:\n",
    "        _, p, adj_alpha, _ = sequential_permutation_t_test_1samp(\n",
    "            x, look_times, n_max = look_times[-1], \n",
    "            tail = tail,\n",
    "            seed = seed,\n",
    "            verbose = False\n",
    "        ) \n",
    "        \n",
    "    # reject if p-val crosses sig threshold at any look time\n",
    "    return np.array([np.any(p < .05), np.any(p < adj_alpha)]) \n",
    "\n",
    "\n",
    "def run_simulations(n_simulations, n_tests = 1, tail = 0, indep = False, n_jobs = -1):\n",
    "    parallel, p_func, _ = parallel_func(one_simulation, n_jobs)\n",
    "    out = parallel(p_func(seed, n_tests, tail, indep) for seed in range(n_simulations))\n",
    "    rejections = np.stack(out)\n",
    "    fpr = rejections.mean(0)\n",
    "    print('False positive rate without correction: ' + str(fpr[0]))\n",
    "    print('False positive rate *with* correction: ' + str(fpr[1]))"
   ]
  },
  {
   "cell_type": "markdown",
   "id": "92fe58ea",
   "metadata": {},
   "source": [
    "## One Sample Test"
   ]
  },
  {
   "cell_type": "code",
   "execution_count": 3,
   "id": "3a93d10e",
   "metadata": {},
   "outputs": [
    {
     "name": "stderr",
     "output_type": "stream",
     "text": [
      "[Parallel(n_jobs=-1)]: Using backend LokyBackend with 6 concurrent workers.\n",
      "[Parallel(n_jobs=-1)]: Done  12 tasks      | elapsed:    5.9s\n",
      "[Parallel(n_jobs=-1)]: Done  66 tasks      | elapsed:   21.9s\n",
      "[Parallel(n_jobs=-1)]: Done 156 tasks      | elapsed:   47.9s\n",
      "[Parallel(n_jobs=-1)]: Done 282 tasks      | elapsed:  1.4min\n",
      "[Parallel(n_jobs=-1)]: Done 444 tasks      | elapsed:  2.2min\n",
      "[Parallel(n_jobs=-1)]: Done 642 tasks      | elapsed:  3.2min\n",
      "[Parallel(n_jobs=-1)]: Done 876 tasks      | elapsed:  4.3min\n",
      "[Parallel(n_jobs=-1)]: Done 1146 tasks      | elapsed:  5.5min\n",
      "[Parallel(n_jobs=-1)]: Done 1452 tasks      | elapsed:  7.0min\n",
      "[Parallel(n_jobs=-1)]: Done 1794 tasks      | elapsed:  8.5min\n",
      "[Parallel(n_jobs=-1)]: Done 2172 tasks      | elapsed: 10.2min\n",
      "[Parallel(n_jobs=-1)]: Done 2586 tasks      | elapsed: 12.0min\n",
      "[Parallel(n_jobs=-1)]: Done 3036 tasks      | elapsed: 14.0min\n",
      "[Parallel(n_jobs=-1)]: Done 3522 tasks      | elapsed: 16.2min\n",
      "[Parallel(n_jobs=-1)]: Done 4044 tasks      | elapsed: 18.5min\n",
      "[Parallel(n_jobs=-1)]: Done 4602 tasks      | elapsed: 21.0min\n",
      "[Parallel(n_jobs=-1)]: Done 5196 tasks      | elapsed: 23.7min\n",
      "[Parallel(n_jobs=-1)]: Done 5826 tasks      | elapsed: 26.5min\n",
      "[Parallel(n_jobs=-1)]: Done 6492 tasks      | elapsed: 29.5min\n",
      "[Parallel(n_jobs=-1)]: Done 7194 tasks      | elapsed: 32.6min\n",
      "[Parallel(n_jobs=-1)]: Done 7932 tasks      | elapsed: 35.9min\n",
      "[Parallel(n_jobs=-1)]: Done 8706 tasks      | elapsed: 39.3min\n",
      "[Parallel(n_jobs=-1)]: Done 9516 tasks      | elapsed: 42.9min\n"
     ]
    },
    {
     "name": "stdout",
     "output_type": "stream",
     "text": [
      "False positive rate without correction: 0.1442\n",
      "False positive rate *with* correction: 0.047\n"
     ]
    },
    {
     "name": "stderr",
     "output_type": "stream",
     "text": [
      "[Parallel(n_jobs=-1)]: Done 10000 out of 10000 | elapsed: 45.1min finished\n"
     ]
    }
   ],
   "source": [
    "# permutation t-test\n",
    "run_simulations(N_SIMULATIONS, indep = False)"
   ]
  },
  {
   "cell_type": "code",
   "execution_count": 4,
   "id": "2756128d",
   "metadata": {},
   "outputs": [
    {
     "name": "stderr",
     "output_type": "stream",
     "text": [
      "[Parallel(n_jobs=-1)]: Using backend LokyBackend with 6 concurrent workers.\n",
      "[Parallel(n_jobs=-1)]: Done  12 tasks      | elapsed:    7.2s\n",
      "[Parallel(n_jobs=-1)]: Done  66 tasks      | elapsed:   37.2s\n",
      "[Parallel(n_jobs=-1)]: Done 156 tasks      | elapsed:  1.5min\n",
      "[Parallel(n_jobs=-1)]: Done 282 tasks      | elapsed:  2.6min\n",
      "[Parallel(n_jobs=-1)]: Done 444 tasks      | elapsed:  4.1min\n",
      "[Parallel(n_jobs=-1)]: Done 642 tasks      | elapsed:  5.9min\n",
      "[Parallel(n_jobs=-1)]: Done 876 tasks      | elapsed:  8.1min\n",
      "[Parallel(n_jobs=-1)]: Done 1146 tasks      | elapsed: 10.6min\n",
      "[Parallel(n_jobs=-1)]: Done 1452 tasks      | elapsed: 13.4min\n",
      "[Parallel(n_jobs=-1)]: Done 1794 tasks      | elapsed: 16.6min\n",
      "[Parallel(n_jobs=-1)]: Done 2172 tasks      | elapsed: 20.0min\n",
      "[Parallel(n_jobs=-1)]: Done 2586 tasks      | elapsed: 23.8min\n",
      "[Parallel(n_jobs=-1)]: Done 3036 tasks      | elapsed: 28.0min\n",
      "[Parallel(n_jobs=-1)]: Done 3522 tasks      | elapsed: 32.4min\n",
      "[Parallel(n_jobs=-1)]: Done 4044 tasks      | elapsed: 37.2min\n",
      "[Parallel(n_jobs=-1)]: Done 4602 tasks      | elapsed: 42.4min\n",
      "[Parallel(n_jobs=-1)]: Done 5196 tasks      | elapsed: 47.8min\n",
      "[Parallel(n_jobs=-1)]: Done 5826 tasks      | elapsed: 53.6min\n",
      "[Parallel(n_jobs=-1)]: Done 6492 tasks      | elapsed: 59.7min\n",
      "[Parallel(n_jobs=-1)]: Done 7194 tasks      | elapsed: 66.2min\n",
      "[Parallel(n_jobs=-1)]: Done 7932 tasks      | elapsed: 73.0min\n",
      "[Parallel(n_jobs=-1)]: Done 8706 tasks      | elapsed: 80.1min\n",
      "[Parallel(n_jobs=-1)]: Done 9516 tasks      | elapsed: 87.5min\n"
     ]
    },
    {
     "name": "stdout",
     "output_type": "stream",
     "text": [
      "False positive rate without correction: 0.1784\n",
      "False positive rate *with* correction: 0.0439\n"
     ]
    },
    {
     "name": "stderr",
     "output_type": "stream",
     "text": [
      "[Parallel(n_jobs=-1)]: Done 10000 out of 10000 | elapsed: 92.0min finished\n"
     ]
    }
   ],
   "source": [
    "# t-max correction for 100 tests\n",
    "run_simulations(N_SIMULATIONS, n_tests = 100, indep = False)"
   ]
  },
  {
   "cell_type": "markdown",
   "id": "05d34bbc",
   "metadata": {},
   "source": [
    "## Independent Sample Test"
   ]
  },
  {
   "cell_type": "code",
   "execution_count": 5,
   "id": "ca0633e9",
   "metadata": {},
   "outputs": [
    {
     "name": "stderr",
     "output_type": "stream",
     "text": [
      "[Parallel(n_jobs=-1)]: Using backend LokyBackend with 6 concurrent workers.\n",
      "[Parallel(n_jobs=-1)]: Done  12 tasks      | elapsed:    5.4s\n",
      "[Parallel(n_jobs=-1)]: Done  66 tasks      | elapsed:   29.4s\n",
      "[Parallel(n_jobs=-1)]: Done 156 tasks      | elapsed:  1.1min\n",
      "[Parallel(n_jobs=-1)]: Done 282 tasks      | elapsed:  2.1min\n",
      "[Parallel(n_jobs=-1)]: Done 444 tasks      | elapsed:  3.3min\n",
      "[Parallel(n_jobs=-1)]: Done 642 tasks      | elapsed:  4.9min\n",
      "[Parallel(n_jobs=-1)]: Done 876 tasks      | elapsed:  6.6min\n",
      "[Parallel(n_jobs=-1)]: Done 1146 tasks      | elapsed:  8.6min\n",
      "[Parallel(n_jobs=-1)]: Done 1452 tasks      | elapsed: 10.8min\n",
      "[Parallel(n_jobs=-1)]: Done 1794 tasks      | elapsed: 13.3min\n",
      "[Parallel(n_jobs=-1)]: Done 2172 tasks      | elapsed: 16.0min\n",
      "[Parallel(n_jobs=-1)]: Done 2586 tasks      | elapsed: 19.0min\n",
      "[Parallel(n_jobs=-1)]: Done 3036 tasks      | elapsed: 22.3min\n",
      "[Parallel(n_jobs=-1)]: Done 3522 tasks      | elapsed: 25.8min\n",
      "[Parallel(n_jobs=-1)]: Done 4044 tasks      | elapsed: 29.5min\n",
      "[Parallel(n_jobs=-1)]: Done 4602 tasks      | elapsed: 33.6min\n",
      "[Parallel(n_jobs=-1)]: Done 5196 tasks      | elapsed: 37.8min\n",
      "[Parallel(n_jobs=-1)]: Done 5826 tasks      | elapsed: 42.3min\n",
      "[Parallel(n_jobs=-1)]: Done 6492 tasks      | elapsed: 47.2min\n",
      "[Parallel(n_jobs=-1)]: Done 7194 tasks      | elapsed: 52.3min\n",
      "[Parallel(n_jobs=-1)]: Done 7932 tasks      | elapsed: 57.6min\n",
      "[Parallel(n_jobs=-1)]: Done 8706 tasks      | elapsed: 63.2min\n",
      "[Parallel(n_jobs=-1)]: Done 9516 tasks      | elapsed: 69.1min\n"
     ]
    },
    {
     "name": "stdout",
     "output_type": "stream",
     "text": [
      "False positive rate without correction: 0.1402\n",
      "False positive rate *with* correction: 0.0465\n"
     ]
    },
    {
     "name": "stderr",
     "output_type": "stream",
     "text": [
      "[Parallel(n_jobs=-1)]: Done 10000 out of 10000 | elapsed: 72.5min finished\n"
     ]
    }
   ],
   "source": [
    "# permutation t-test\n",
    "run_simulations(N_SIMULATIONS, indep = True)"
   ]
  },
  {
   "cell_type": "code",
   "execution_count": 6,
   "id": "dcfd23a1",
   "metadata": {},
   "outputs": [
    {
     "name": "stderr",
     "output_type": "stream",
     "text": [
      "[Parallel(n_jobs=-1)]: Using backend LokyBackend with 6 concurrent workers.\n",
      "[Parallel(n_jobs=-1)]: Done  12 tasks      | elapsed:   10.2s\n",
      "[Parallel(n_jobs=-1)]: Done  66 tasks      | elapsed:   55.2s\n",
      "[Parallel(n_jobs=-1)]: Done 156 tasks      | elapsed:  2.2min\n",
      "[Parallel(n_jobs=-1)]: Done 282 tasks      | elapsed:  3.9min\n",
      "[Parallel(n_jobs=-1)]: Done 444 tasks      | elapsed:  6.1min\n",
      "[Parallel(n_jobs=-1)]: Done 642 tasks      | elapsed:  8.8min\n",
      "[Parallel(n_jobs=-1)]: Done 876 tasks      | elapsed: 12.0min\n",
      "[Parallel(n_jobs=-1)]: Done 1146 tasks      | elapsed: 15.7min\n",
      "[Parallel(n_jobs=-1)]: Done 1452 tasks      | elapsed: 19.8min\n",
      "[Parallel(n_jobs=-1)]: Done 1794 tasks      | elapsed: 24.5min\n",
      "[Parallel(n_jobs=-1)]: Done 2172 tasks      | elapsed: 29.7min\n",
      "[Parallel(n_jobs=-1)]: Done 2586 tasks      | elapsed: 35.3min\n",
      "[Parallel(n_jobs=-1)]: Done 3036 tasks      | elapsed: 41.5min\n",
      "[Parallel(n_jobs=-1)]: Done 3522 tasks      | elapsed: 48.1min\n",
      "[Parallel(n_jobs=-1)]: Done 4044 tasks      | elapsed: 55.2min\n",
      "[Parallel(n_jobs=-1)]: Done 4602 tasks      | elapsed: 62.8min\n",
      "[Parallel(n_jobs=-1)]: Done 5196 tasks      | elapsed: 70.9min\n",
      "[Parallel(n_jobs=-1)]: Done 5826 tasks      | elapsed: 79.5min\n",
      "[Parallel(n_jobs=-1)]: Done 6492 tasks      | elapsed: 88.6min\n",
      "[Parallel(n_jobs=-1)]: Done 7194 tasks      | elapsed: 98.2min\n",
      "[Parallel(n_jobs=-1)]: Done 7932 tasks      | elapsed: 108.3min\n",
      "[Parallel(n_jobs=-1)]: Done 8706 tasks      | elapsed: 118.8min\n",
      "[Parallel(n_jobs=-1)]: Done 9516 tasks      | elapsed: 129.9min\n"
     ]
    },
    {
     "name": "stdout",
     "output_type": "stream",
     "text": [
      "False positive rate without correction: 0.1715\n",
      "False positive rate *with* correction: 0.0458\n"
     ]
    },
    {
     "name": "stderr",
     "output_type": "stream",
     "text": [
      "[Parallel(n_jobs=-1)]: Done 10000 out of 10000 | elapsed: 136.5min finished\n"
     ]
    }
   ],
   "source": [
    "# t-max correction\n",
    "run_simulations(N_SIMULATIONS, n_tests = 100, indep = True)"
   ]
  }
 ],
 "metadata": {
  "kernelspec": {
   "display_name": "Python 3 (ipykernel)",
   "language": "python",
   "name": "python3"
  },
  "language_info": {
   "codemirror_mode": {
    "name": "ipython",
    "version": 3
   },
   "file_extension": ".py",
   "mimetype": "text/x-python",
   "name": "python",
   "nbconvert_exporter": "python",
   "pygments_lexer": "ipython3",
   "version": "3.10.8"
  }
 },
 "nbformat": 4,
 "nbformat_minor": 5
}
